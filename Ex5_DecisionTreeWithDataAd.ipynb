{
  "nbformat": 4,
  "nbformat_minor": 0,
  "metadata": {
    "colab": {
      "name": "Ex5_DecisionTreeWithDataAd.ipynb",
      "provenance": [],
      "collapsed_sections": []
    },
    "kernelspec": {
      "name": "python3",
      "display_name": "Python 3"
    },
    "language_info": {
      "name": "python"
    }
  },
  "cells": [
    {
      "cell_type": "code",
      "metadata": {
        "id": "7ERhgDPpMQUS"
      },
      "source": [
        "import numpy as np\n",
        "import pandas as pd\n",
        "data =pd.read_csv('/content/drive/MyDrive/datasets/Data_Advertising.csv')\n",
        "\n",
        "X = np.array(data[['TV','radio','newspaper']])\n",
        "Y = np.array(data['sales'])"
      ],
      "execution_count": null,
      "outputs": []
    },
    {
      "cell_type": "code",
      "metadata": {
        "id": "bE6YvSQiNFTr"
      },
      "source": [
        "from sklearn import datasets\n",
        "import matplotlib.pyplot as plt\n",
        "from matplotlib import rcParams\n",
        "from sklearn.utils import shuffle\n",
        "from sklearn.metrics import mean_squared_error,explained_variance_score\n",
        "from sklearn.tree import DecisionTreeRegressor\n",
        "from sklearn.ensemble import AdaBoostRegressor"
      ],
      "execution_count": null,
      "outputs": []
    },
    {
      "cell_type": "code",
      "metadata": {
        "id": "pbYIa7IPNIcL"
      },
      "source": [
        "ntrain = int(0.8 * len(X))\n",
        "xtrain,xtest,ytrain,ytest = X[:ntrain],X[ntrain:],Y[:ntrain],Y[ntrain:]"
      ],
      "execution_count": null,
      "outputs": []
    },
    {
      "cell_type": "code",
      "metadata": {
        "id": "bY8WPv7oNJgq"
      },
      "source": [
        "dtr = DecisionTreeRegressor(max_depth=6)"
      ],
      "execution_count": null,
      "outputs": []
    },
    {
      "cell_type": "code",
      "metadata": {
        "id": "HS3gBus-NMEK"
      },
      "source": [
        "abdtr = AdaBoostRegressor(DecisionTreeRegressor(max_depth=6))"
      ],
      "execution_count": null,
      "outputs": []
    },
    {
      "cell_type": "code",
      "metadata": {
        "colab": {
          "base_uri": "https://localhost:8080/"
        },
        "id": "X3i9gC-GNODa",
        "outputId": "831ebc1c-9ddc-43ab-8d85-2bbe2d491ecf"
      },
      "source": [
        "dtr.fit(xtrain,ytrain)\n",
        "ytest_predict_dtr = dtr.predict(xtest)\n",
        "print(\"Mean Squared Error :\",round(mean_squared_error(ytest,ytest_predict_dtr),2))\n",
        "print(\"Explained Variance Score :\",round(explained_variance_score(ytest,ytest_predict_dtr),2))"
      ],
      "execution_count": null,
      "outputs": [
        {
          "output_type": "stream",
          "name": "stdout",
          "text": [
            "Mean Squared Error : 1.06\n",
            "Explained Variance Score : 0.96\n"
          ]
        }
      ]
    },
    {
      "cell_type": "code",
      "metadata": {
        "colab": {
          "base_uri": "https://localhost:8080/"
        },
        "id": "WMDv4RSeNSH6",
        "outputId": "96ccd780-89f6-449f-a143-b7a255393eda"
      },
      "source": [
        "abdtr.fit(xtrain,ytrain)\n",
        "ytest_predict_abdtr = abdtr.predict(xtest)\n",
        "print(\"Mean Squared Error :\",round(mean_squared_error(ytest,ytest_predict_abdtr),2))\n",
        "print(\"Explained Variance Score :\",round(explained_variance_score(ytest,ytest_predict_abdtr),2))"
      ],
      "execution_count": null,
      "outputs": [
        {
          "output_type": "stream",
          "name": "stdout",
          "text": [
            "Mean Squared Error : 0.6\n",
            "Explained Variance Score : 0.98\n"
          ]
        }
      ]
    },
    {
      "cell_type": "code",
      "metadata": {
        "id": "vgdpeiRjNUtq"
      },
      "source": [
        "feature_importances = dtr.feature_importances_\n",
        "feature_names = list(data.columns.values[1:])\n",
        "\n"
      ],
      "execution_count": null,
      "outputs": []
    },
    {
      "cell_type": "code",
      "metadata": {
        "colab": {
          "base_uri": "https://localhost:8080/",
          "height": 298
        },
        "id": "C_6pFOFiNVOq",
        "outputId": "16ed79de-9c4b-42f4-f80d-0212f4c1eebe"
      },
      "source": [
        "feature_importances = 100.0 * feature_importances/max(feature_importances)\n",
        "index_sorted = np.flipud(np.argsort(feature_importances))\n",
        "pos = np.arange(index_sorted.shape[0])\n",
        "rcParams['figure.figsize'] =7,7\n",
        "plt.bar(pos,feature_importances[index_sorted])\n",
        "plt.xticks(pos,feature_names)\n",
        "plt.ylabel('Relative Importance')\n",
        "\n",
        "plt.show()"
      ],
      "execution_count": null,
      "outputs": [
        {
          "output_type": "display_data",
          "data": {
            "image/png": "[encoded data removed]",
            "text/plain": [
              "<Figure size 504x504 with 1 Axes>"
            ]
          },
          "metadata": {
            "needs_background": "light"
          }
        }
      ]
    },
    {
      "cell_type": "code",
      "metadata": {
        "id": "BkxVATuNNYB7"
      },
      "source": [
        "feature_importances = abdtr.feature_importances_\n",
        "feature_names = list(data.columns.values[1:])\n",
        "title = 'AdaBoost Decision Tree Regressor'"
      ],
      "execution_count": null,
      "outputs": []
    },
    {
      "cell_type": "code",
      "metadata": {
        "id": "o-V886QlNaHK",
        "colab": {
          "base_uri": "https://localhost:8080/",
          "height": 309
        },
        "outputId": "6e3957bd-b6c2-45a3-8c33-69ad76b51d0d"
      },
      "source": [
        "feature_importances = 100.0 * feature_importances/max(feature_importances)\n",
        "index_sorted = np.flipud(np.argsort(feature_importances))\n",
        "pos = np.arange(index_sorted.shape[0])\n",
        "rcParams['figure.figsize'] =7,7\n",
        "plt.bar(pos,feature_importances[index_sorted])\n",
        "plt.xticks(pos,feature_names)\n",
        "plt.ylabel('Relative Importance')\n",
        "plt.title(title)\n",
        "plt.show()"
      ],
      "execution_count": null,
      "outputs": [
        {
          "output_type": "display_data",
          "data": {
            "image/png": "[encoded data removed]",
            "text/plain": [
              "<Figure size 504x504 with 1 Axes>"
            ]
          },
          "metadata": {
            "needs_background": "light"
          }
        }
      ]
    }
  ]
}